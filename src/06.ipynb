{
 "cells": [
  {
   "cell_type": "markdown",
   "metadata": {},
   "source": [
    "### 06.1"
   ]
  },
  {
   "cell_type": "code",
   "execution_count": 13,
   "metadata": {},
   "outputs": [
    {
     "name": "stdout",
     "output_type": "stream",
     "text": [
      "1361\n"
     ]
    }
   ],
   "source": [
    "charcount = 4\n",
    "\n",
    "def has_no_duplicates(chars: list[chr]):\n",
    "    for i in range(chars.__len__()):\n",
    "        for j in range(chars.__len__()):\n",
    "            if i != j and chars[i] == chars[j]:\n",
    "                return False\n",
    "\n",
    "    return True\n",
    "\n",
    "with open('input') as f:\n",
    "    line = f.readline()\n",
    "    for i in range(3,line.__len__()):\n",
    "        areUnique = True\n",
    "        previousChars = []\n",
    "        for j in range(4):\n",
    "            previousChars.append(line[i-j])\n",
    "        if has_no_duplicates(previousChars):\n",
    "            break\n",
    "        charcount += 1\n",
    "\n",
    "print(charcount)"
   ]
  },
  {
   "cell_type": "markdown",
   "metadata": {},
   "source": [
    "### 06.2"
   ]
  },
  {
   "cell_type": "code",
   "execution_count": 14,
   "metadata": {},
   "outputs": [
    {
     "name": "stdout",
     "output_type": "stream",
     "text": [
      "3263\n"
     ]
    }
   ],
   "source": [
    "uniqueCharCount = 14\n",
    "\n",
    "charcount = uniqueCharCount\n",
    "\n",
    "def has_no_duplicates(chars: list[chr]):\n",
    "    for i in range(chars.__len__()):\n",
    "        for j in range(chars.__len__()):\n",
    "            if i != j and chars[i] == chars[j]:\n",
    "                return False\n",
    "\n",
    "    return True\n",
    "\n",
    "with open('input') as f:\n",
    "    line = f.readline()\n",
    "    for i in range(uniqueCharCount-1,line.__len__()):\n",
    "        areUnique = True\n",
    "        previousChars = []\n",
    "        for j in range(uniqueCharCount):\n",
    "            previousChars.append(line[i-j])\n",
    "        if has_no_duplicates(previousChars):\n",
    "            break\n",
    "        charcount += 1\n",
    "\n",
    "print(charcount)"
   ]
  },
  {
   "cell_type": "markdown",
   "metadata": {},
   "source": [
    "12"
   ]
  }
 ],
 "metadata": {
  "kernelspec": {
   "display_name": "Python 3.9.2 64-bit",
   "language": "python",
   "name": "python3"
  },
  "language_info": {
   "codemirror_mode": {
    "name": "ipython",
    "version": 3
   },
   "file_extension": ".py",
   "mimetype": "text/x-python",
   "name": "python",
   "nbconvert_exporter": "python",
   "pygments_lexer": "ipython3",
   "version": "3.9.2"
  },
  "orig_nbformat": 4,
  "vscode": {
   "interpreter": {
    "hash": "916dbcbb3f70747c44a77c7bcd40155683ae19c65e1c03b4aa3499c5328201f1"
   }
  }
 },
 "nbformat": 4,
 "nbformat_minor": 2
}
