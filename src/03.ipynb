{
 "cells": [
  {
   "cell_type": "markdown",
   "metadata": {},
   "source": [
    "### 03_1"
   ]
  },
  {
   "cell_type": "code",
   "execution_count": 6,
   "metadata": {},
   "outputs": [
    {
     "name": "stdout",
     "output_type": "stream",
     "text": [
      "7742\n"
     ]
    }
   ],
   "source": [
    "priosum = 0\n",
    "\n",
    "with open('input','r') as f:\n",
    "    for line in f:\n",
    "        first = line[:int((len(line)-1)/2)]\n",
    "        second = line[int((len(line)-1)/2):]\n",
    "        for c in first:\n",
    "            if(second.__contains__(c)):\n",
    "                if ord(c) >= ord('a'):\n",
    "                    #print(ord(c)-ord('a')+1)\n",
    "                    priosum += ord(c)-ord('a')+1\n",
    "                else:\n",
    "                    #print(ord(c)-ord('A')+27)\n",
    "                    priosum += ord(c)-ord('A')+27\n",
    "                break\n",
    "\n",
    "        #print('\\n\\n')\n",
    "\n",
    "print(priosum)"
   ]
  },
  {
   "cell_type": "code",
   "execution_count": 7,
   "metadata": {},
   "outputs": [
    {
     "name": "stdout",
     "output_type": "stream",
     "text": [
      "1 A\n",
      "2 B\n",
      "3 C\n",
      "4 D\n",
      "5 E\n",
      "6 F\n",
      "7 G\n",
      "8 H\n",
      "9 I\n",
      "10 J\n",
      "11 K\n",
      "12 L\n",
      "13 M\n",
      "14 N\n",
      "15 O\n",
      "16 P\n",
      "17 Q\n",
      "18 R\n",
      "19 S\n",
      "20 T\n",
      "21 U\n",
      "22 V\n",
      "23 W\n",
      "24 X\n",
      "25 Y\n",
      "26 Z\n"
     ]
    }
   ],
   "source": [
    "# just for reference\n",
    "for i in range(1,27):\n",
    "    print(str(i) + ' ' + chr(i+64))"
   ]
  },
  {
   "cell_type": "markdown",
   "metadata": {},
   "source": [
    "### 03_2"
   ]
  },
  {
   "cell_type": "code",
   "execution_count": 1,
   "metadata": {},
   "outputs": [
    {
     "name": "stdout",
     "output_type": "stream",
     "text": [
      "2276\n"
     ]
    }
   ],
   "source": [
    "priosum = 0\n",
    "currentGroup: list[str] = []\n",
    "\n",
    "with open('input','r') as f:\n",
    "    for line in f:\n",
    "        if(currentGroup.__len__() < 3):\n",
    "            currentGroup.append(line)\n",
    "        \n",
    "        if(currentGroup.__len__() == 3):\n",
    "            for c in currentGroup[0]:\n",
    "                if(currentGroup[1].__contains__(c) and currentGroup[2].__contains__(c)):\n",
    "                    if ord(c) >= ord('a'):\n",
    "                        priosum += ord(c)-ord('a')+1\n",
    "                    else:\n",
    "                        priosum += ord(c)-ord('A')+27\n",
    "                    break    \n",
    "            currentGroup.clear()\n",
    "\n",
    "print(priosum)"
   ]
  }
 ],
 "metadata": {
  "kernelspec": {
   "display_name": "Python 3.9.2 64-bit",
   "language": "python",
   "name": "python3"
  },
  "language_info": {
   "codemirror_mode": {
    "name": "ipython",
    "version": 3
   },
   "file_extension": ".py",
   "mimetype": "text/x-python",
   "name": "python",
   "nbconvert_exporter": "python",
   "pygments_lexer": "ipython3",
   "version": "3.9.2"
  },
  "orig_nbformat": 4,
  "vscode": {
   "interpreter": {
    "hash": "916dbcbb3f70747c44a77c7bcd40155683ae19c65e1c03b4aa3499c5328201f1"
   }
  }
 },
 "nbformat": 4,
 "nbformat_minor": 2
}
