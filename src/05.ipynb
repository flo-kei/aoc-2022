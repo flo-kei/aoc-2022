{
 "cells": [
  {
   "cell_type": "code",
   "execution_count": 18,
   "metadata": {},
   "outputs": [
    {
     "name": "stdout",
     "output_type": "stream",
     "text": [
      "HNSNMTLHQ\n"
     ]
    }
   ],
   "source": [
    "import re\n",
    "\n",
    "initialstate = []\n",
    "instructions : list[str] = []\n",
    "\n",
    "stacks: list[list[chr]] = [[]]\n",
    "\n",
    "for i in range(8):\n",
    "    stacks.append([])\n",
    "\n",
    "initialStateDone = False\n",
    "\n",
    "def move(count,src,dest):\n",
    "    for i in range(count):\n",
    "        stacks[dest-1].append(stacks[src-1].pop())\n",
    "\n",
    "with open('input') as f:\n",
    "    for line in f:\n",
    "        line = line.replace('\\n','')\n",
    "        if (line != '' and not initialStateDone):\n",
    "            initialstate.append(line)\n",
    "            i = 1\n",
    "            stackIdx = 0\n",
    "            while i < line.__len__():\n",
    "                if str.isalpha(line[i]):\n",
    "                    stacks[stackIdx].insert(0,line[i])\n",
    "                i+=4\n",
    "                stackIdx+=1\n",
    "            \n",
    "        else:\n",
    "            initialStateDone = True\n",
    "            instructions.append(line)\n",
    "instructions.pop(0)\n",
    "\n",
    "for task in instructions:\n",
    "    currenttask = task\n",
    "    splitdata = re.findall('\\\\d+',currenttask)\n",
    "    count = int(splitdata[0])\n",
    "    src = int(splitdata[1])\n",
    "    dest = int(splitdata[2])\n",
    "    move(count,src,dest)\n",
    "\n",
    "output = ''\n",
    "for stack in stacks:\n",
    "    output += stack[-1]\n",
    "\n",
    "print(output)"
   ]
  },
  {
   "cell_type": "markdown",
   "metadata": {},
   "source": [
    "My solution for 05.1: HNSNMTLHQ"
   ]
  },
  {
   "cell_type": "markdown",
   "metadata": {},
   "source": [
    "### 05.2"
   ]
  },
  {
   "cell_type": "code",
   "execution_count": 19,
   "metadata": {},
   "outputs": [
    {
     "name": "stdout",
     "output_type": "stream",
     "text": [
      "RNLFDJMCT\n"
     ]
    }
   ],
   "source": [
    "import re\n",
    "\n",
    "initialstate = []\n",
    "instructions : list[str] = []\n",
    "\n",
    "stacks: list[list[chr]] = [[]]\n",
    "\n",
    "for i in range(8):\n",
    "    stacks.append([])\n",
    "\n",
    "initialStateDone = False\n",
    "\n",
    "def move(count,src,dest):\n",
    "    stack = []\n",
    "    for i in range(count):\n",
    "        stack.insert(0,stacks[src-1].pop())\n",
    "    for item in stack:\n",
    "        stacks[dest-1].append(item)\n",
    "\n",
    "with open('input') as f:\n",
    "    for line in f:\n",
    "        line = line.replace('\\n','')\n",
    "        if (line != '' and not initialStateDone):\n",
    "            initialstate.append(line)\n",
    "            i = 1\n",
    "            stackIdx = 0\n",
    "            while i < line.__len__():\n",
    "                if str.isalpha(line[i]):\n",
    "                    stacks[stackIdx].insert(0,line[i])\n",
    "                i+=4\n",
    "                stackIdx+=1\n",
    "            \n",
    "        else:\n",
    "            initialStateDone = True\n",
    "            instructions.append(line)\n",
    "instructions.pop(0)\n",
    "\n",
    "for task in instructions:\n",
    "    currenttask = task\n",
    "    splitdata = re.findall('\\\\d+',currenttask)\n",
    "    count = int(splitdata[0])\n",
    "    src = int(splitdata[1])\n",
    "    dest = int(splitdata[2])\n",
    "    move(count,src,dest)\n",
    "\n",
    "output = ''\n",
    "for stack in stacks:\n",
    "    output += stack[-1]\n",
    "\n",
    "print(output)"
   ]
  },
  {
   "cell_type": "markdown",
   "metadata": {},
   "source": [
    "95"
   ]
  }
 ],
 "metadata": {
  "kernelspec": {
   "display_name": "Python 3.9.2 64-bit",
   "language": "python",
   "name": "python3"
  },
  "language_info": {
   "codemirror_mode": {
    "name": "ipython",
    "version": 3
   },
   "file_extension": ".py",
   "mimetype": "text/x-python",
   "name": "python",
   "nbconvert_exporter": "python",
   "pygments_lexer": "ipython3",
   "version": "3.9.2"
  },
  "orig_nbformat": 4,
  "vscode": {
   "interpreter": {
    "hash": "916dbcbb3f70747c44a77c7bcd40155683ae19c65e1c03b4aa3499c5328201f1"
   }
  }
 },
 "nbformat": 4,
 "nbformat_minor": 2
}
