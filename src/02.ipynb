{
 "cells": [
  {
   "cell_type": "markdown",
   "metadata": {},
   "source": [
    "### 2.1\n",
    "\n",
    "Rock > Scissors > Paper > Rock\n",
    "\n",
    "Identifiers:\n",
    "Rock: 3\n",
    "Scissors: 2\n",
    "Paper: 1"
   ]
  },
  {
   "cell_type": "code",
   "execution_count": 5,
   "metadata": {},
   "outputs": [
    {
     "name": "stdout",
     "output_type": "stream",
     "text": [
      "12772\n"
     ]
    }
   ],
   "source": [
    "from dataclasses import dataclass\n",
    "from typing import List\n",
    "\n",
    "\n",
    "@dataclass\n",
    "class Item:\n",
    "    abbr: List[str]\n",
    "    name: str\n",
    "    points: int\n",
    "    identifier: int\n",
    "\n",
    "def play(itemOpponent: Item, itemOwn: Item):\n",
    "    if itemOwn.identifier == itemOpponent.identifier:\n",
    "        return 3\n",
    "    if itemOwn.identifier == 1 and itemOpponent.identifier == 3:\n",
    "        return 6\n",
    "    if itemOpponent.identifier == 1 and itemOwn.identifier == 3:\n",
    "        return 0\n",
    "    if itemOwn.identifier > itemOpponent.identifier:\n",
    "        return 6\n",
    "    return 0\n",
    "\n",
    "items = [Item(['A','X'],'Rock',1,3), \n",
    "    Item(['B','Y'],'Paper',2, 1),Item([\"C\",\"Z\"],\"Scissors\",3,2)]\n",
    "\n",
    "def findItem(abbr: str) -> Item:\n",
    "    for item in items:\n",
    "        if(item.abbr.__contains__(abbr)):\n",
    "            return item\n",
    "    return Item()\n",
    "\n",
    "with open('input.txt','r') as f:\n",
    "    input = f.read().split('\\n')\n",
    "\n",
    "currentItems = []\n",
    "allPoints = 0\n",
    "for line in input:\n",
    "    currentItemsStrings:List[str] = line.split(' ')\n",
    "    currentItems = [ findItem(item) for item in currentItemsStrings]\n",
    "\n",
    "    points = currentItems[1].points\n",
    "    points += play(currentItems[0],currentItems[1])\n",
    "    allPoints += points\n",
    "print(allPoints)\n"
   ]
  },
  {
   "cell_type": "markdown",
   "metadata": {},
   "source": [
    "### 2.2\n",
    "Rock > Scissors > Paper > Rock\n",
    "\n",
    "Identifiers:\n",
    "Rock: 2\n",
    "Scissors: 1\n",
    "Paper: 0"
   ]
  },
  {
   "cell_type": "code",
   "execution_count": 1,
   "metadata": {},
   "outputs": [
    {
     "name": "stdout",
     "output_type": "stream",
     "text": [
      "11618\n"
     ]
    }
   ],
   "source": [
    "from dataclasses import dataclass\n",
    "from enum import Enum\n",
    "from typing import List\n",
    "\n",
    "\n",
    "@dataclass\n",
    "class Item:\n",
    "    abbr: List[str]\n",
    "    name: str\n",
    "    points: int\n",
    "    identifier: int\n",
    "\n",
    "class Action(Enum):\n",
    "    LOSE = 0,\n",
    "    DRAW = 1,\n",
    "    WIN = 2\n",
    "\n",
    "items = [Item(['A','X'],'Rock',1,2), \n",
    "    Item(['B','Y'],'Paper',2, 0),Item([\"C\",\"Z\"],\"Scissors\",3,1)]\n",
    "\n",
    "actionSymbols = {\n",
    "    \"X\": Action.LOSE,\n",
    "    \"Y\": Action.DRAW,\n",
    "    \"Z\": Action.WIN\n",
    "}\n",
    "\n",
    "def play(itemOpponent: Item, itemOwn: Item):\n",
    "    if itemOwn.identifier == itemOpponent.identifier:\n",
    "        return 3\n",
    "    if itemOwn.identifier == 0 and itemOpponent.identifier == 2:\n",
    "        return 6\n",
    "    if itemOpponent.identifier == 0 and itemOwn.identifier == 2:\n",
    "        return 0\n",
    "    if itemOwn.identifier > itemOpponent.identifier:\n",
    "        return 6\n",
    "    return 0\n",
    "\n",
    "\n",
    "def findCorrectShape(itemOpponent: Item, action: Action):\n",
    "    possibleItems = items.copy()\n",
    "    winItem = [item for item in possibleItems \n",
    "            if item.identifier == (itemOpponent.identifier+1)%3][0]\n",
    "\n",
    "    if action == Action.DRAW:\n",
    "        return itemOpponent\n",
    "    if action == Action.WIN:\n",
    "        return winItem\n",
    "    if action == Action.LOSE:\n",
    "        possibleItems.remove(itemOpponent)\n",
    "        possibleItems.remove(winItem)\n",
    "        return possibleItems[0]\n",
    "\n",
    "\n",
    "def findItem(abbr: str) -> Item:\n",
    "    for item in items:\n",
    "        if(item.abbr.__contains__(abbr)):\n",
    "            return item\n",
    "    return Item()\n",
    "\n",
    "with open('input.txt','r') as f:\n",
    "    input = f.read().split('\\n')\n",
    "\n",
    "currentItems = []\n",
    "allPoints = 0\n",
    "for line in input:\n",
    "    currentItemsStrings:List[str] = line.split(' ')\n",
    "    currentItems = [ findItem(item) for item in currentItemsStrings]\n",
    "    action = actionSymbols[currentItemsStrings[1]]\n",
    "    myItem = findCorrectShape(currentItems[0],action)\n",
    "    points = myItem.points\n",
    "    points += play(currentItems[0],myItem)\n",
    "    allPoints += points\n",
    "print(allPoints)\n"
   ]
  }
 ],
 "metadata": {
  "kernelspec": {
   "display_name": "Python 3.9.2 64-bit",
   "language": "python",
   "name": "python3"
  },
  "language_info": {
   "codemirror_mode": {
    "name": "ipython",
    "version": 3
   },
   "file_extension": ".py",
   "mimetype": "text/x-python",
   "name": "python",
   "nbconvert_exporter": "python",
   "pygments_lexer": "ipython3",
   "version": "3.9.2"
  },
  "orig_nbformat": 4,
  "vscode": {
   "interpreter": {
    "hash": "916dbcbb3f70747c44a77c7bcd40155683ae19c65e1c03b4aa3499c5328201f1"
   }
  }
 },
 "nbformat": 4,
 "nbformat_minor": 2
}
