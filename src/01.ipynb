{
 "cells": [
  {
   "cell_type": "markdown",
   "metadata": {},
   "source": [
    "### 01_1"
   ]
  },
  {
   "cell_type": "code",
   "execution_count": 1,
   "metadata": {},
   "outputs": [
    {
     "name": "stdout",
     "output_type": "stream",
     "text": [
      "70698\n"
     ]
    }
   ],
   "source": [
    "from dataclasses import dataclass\n",
    "\n",
    "\n",
    "@dataclass\n",
    "class Elf:\n",
    "    caloryCount: int = 0\n",
    "\n",
    "f = open(\"input.txt\",\"r\")\n",
    "elfdata = f.read()\n",
    "elfdata = elfdata.split(\"\\n\")\n",
    "currentElf = Elf()\n",
    "elves = list[Elf]()\n",
    "\n",
    "for y in elfdata:\n",
    "    if(y == \"\"):\n",
    "        elves.append(currentElf)\n",
    "        currentElf = Elf()\n",
    "        continue\n",
    "    currentElf.caloryCount += int(y)\n",
    "\n",
    "maxCal = 0\n",
    "\n",
    "for elf in elves:\n",
    "    if elf.caloryCount > maxCal:\n",
    "        maxCal = elf.caloryCount\n",
    "\n",
    "print(maxCal)"
   ]
  },
  {
   "cell_type": "markdown",
   "metadata": {},
   "source": [
    "### 01_2"
   ]
  },
  {
   "cell_type": "code",
   "execution_count": 1,
   "metadata": {},
   "outputs": [
    {
     "data": {
      "text/plain": [
       "206643"
      ]
     },
     "execution_count": 1,
     "metadata": {},
     "output_type": "execute_result"
    }
   ],
   "source": [
    "from dataclasses import dataclass\n",
    "\n",
    "\n",
    "@dataclass\n",
    "class Elf:\n",
    "    caloryCount: int = 0\n",
    "\n",
    "f = open(\"input.txt\",\"r\")\n",
    "elfdata = f.read()\n",
    "elfdata = elfdata.split(\"\\n\")\n",
    "currentElf = Elf()\n",
    "elves = list[Elf]()\n",
    "\n",
    "for y in elfdata:\n",
    "    if(y == \"\"):\n",
    "        elves.append(currentElf)\n",
    "        currentElf = Elf()\n",
    "        continue\n",
    "    currentElf.caloryCount += int(y)\n",
    "\n",
    "elves.sort(key= lambda e: e.caloryCount, reverse=True)\n",
    "\n",
    "values = map(lambda e: e.caloryCount,elves[:3])\n",
    "\n",
    "sum(values)\n",
    "\n"
   ]
  }
 ],
 "metadata": {
  "kernelspec": {
   "display_name": "Python 3.9.2 64-bit",
   "language": "python",
   "name": "python3"
  },
  "language_info": {
   "codemirror_mode": {
    "name": "ipython",
    "version": 3
   },
   "file_extension": ".py",
   "mimetype": "text/x-python",
   "name": "python",
   "nbconvert_exporter": "python",
   "pygments_lexer": "ipython3",
   "version": "3.9.2"
  },
  "orig_nbformat": 4,
  "vscode": {
   "interpreter": {
    "hash": "916dbcbb3f70747c44a77c7bcd40155683ae19c65e1c03b4aa3499c5328201f1"
   }
  }
 },
 "nbformat": 4,
 "nbformat_minor": 2
}
