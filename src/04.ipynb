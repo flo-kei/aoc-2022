{
 "cells": [
  {
   "cell_type": "markdown",
   "metadata": {},
   "source": [
    " 04.1"
   ]
  },
  {
   "cell_type": "code",
   "execution_count": 13,
   "metadata": {},
   "outputs": [
    {
     "name": "stdout",
     "output_type": "stream",
     "text": [
      "567\n"
     ]
    }
   ],
   "source": [
    "count = 0\n",
    "\n",
    "def partly_contains(listA: list[int], listB: list[int]):\n",
    "    for x in listA:\n",
    "        if not listB.__contains__(x):\n",
    "            return False\n",
    "\n",
    "    return True\n",
    "\n",
    "with open(\"input\") as f:\n",
    "    for line in f:\n",
    "        if(line.strip() == ''):\n",
    "            continue\n",
    "        tasksStr1 = line.split(',')[0].split('-')\n",
    "        tasksStr2 = line.split(',')[1].split('-')\n",
    "\n",
    "        tasks1 = list(range(int(tasksStr1[0]),int(tasksStr1[1])+1))\n",
    "        tasks2 = list(range(int(tasksStr2[0]),int(tasksStr2[1])+1))\n",
    "\n",
    "        if partly_contains(tasks1,tasks2) or partly_contains(tasks2,tasks1):\n",
    "            count +=1\n",
    "\n",
    "print(count)"
   ]
  },
  {
   "cell_type": "markdown",
   "metadata": {},
   "source": [
    " 04.2"
   ]
  },
  {
   "cell_type": "code",
   "execution_count": 22,
   "metadata": {},
   "outputs": [
    {
     "name": "stdout",
     "output_type": "stream",
     "text": [
      "907\n"
     ]
    }
   ],
   "source": [
    "count = 0\n",
    "\n",
    "def partly_contains(listA: list[int], listB: list[int]):\n",
    "    for x in listA:\n",
    "        if listB.__contains__(x):\n",
    "            return True\n",
    "\n",
    "    return False\n",
    " \n",
    "alltasks: list[list[int]] = []\n",
    "\n",
    "with open(\"input\") as f:\n",
    "    for line in f:\n",
    "        if(line.strip() == ''):\n",
    "            continue\n",
    "        tasksStr1 = line.split(',')[0].split('-')\n",
    "        tasksStr2 = line.split(',')[1].split('-')\n",
    "\n",
    "        tasks1 = list(range(int(tasksStr1[0]),int(tasksStr1[1])+1))\n",
    "        tasks2 = list(range(int(tasksStr2[0]),int(tasksStr2[1])+1))\n",
    "\n",
    "        if partly_contains(tasks1,tasks2) or partly_contains(tasks2,tasks1):\n",
    "            count += 1\n",
    "\n",
    "        alltasks.append(tasks1)\n",
    "        alltasks.append(tasks2)\n",
    "\n",
    "print(count)"
   ]
  }
 ],
 "metadata": {
  "kernelspec": {
   "display_name": "Python 3.9.2 64-bit",
   "language": "python",
   "name": "python3"
  },
  "language_info": {
   "codemirror_mode": {
    "name": "ipython",
    "version": 3
   },
   "file_extension": ".py",
   "mimetype": "text/x-python",
   "name": "python",
   "nbconvert_exporter": "python",
   "pygments_lexer": "ipython3",
   "version": "3.9.2"
  },
  "orig_nbformat": 4,
  "vscode": {
   "interpreter": {
    "hash": "916dbcbb3f70747c44a77c7bcd40155683ae19c65e1c03b4aa3499c5328201f1"
   }
  }
 },
 "nbformat": 4,
 "nbformat_minor": 2
}
